{
 "cells": [
  {
   "cell_type": "markdown",
   "id": "26ca6d63",
   "metadata": {},
   "source": [
    "### Image Classification of an American Sign Language Dataset"
   ]
  },
  {
   "cell_type": "code",
   "execution_count": 1,
   "id": "3fd1b2db",
   "metadata": {},
   "outputs": [],
   "source": [
    "import pandas as pd"
   ]
  },
  {
   "cell_type": "code",
   "execution_count": 3,
   "id": "c1138f67",
   "metadata": {},
   "outputs": [],
   "source": [
    "train_df = pd.read_csv(\"/Users/Asus/OneDrive/Desktop/sign_mnist_train.csv\")\n",
    "valid_df = pd.read_csv(\"/Users/Asus/OneDrive/Desktop/sign_mnist_valid.csv\")"
   ]
  },
  {
   "cell_type": "markdown",
   "id": "d76323bf",
   "metadata": {},
   "source": [
    "Exploring the data"
   ]
  },
  {
   "cell_type": "code",
   "execution_count": 4,
   "id": "64b5ada6",
   "metadata": {},
   "outputs": [
    {
     "data": {
      "text/html": [
       "<div>\n",
       "<style scoped>\n",
       "    .dataframe tbody tr th:only-of-type {\n",
       "        vertical-align: middle;\n",
       "    }\n",
       "\n",
       "    .dataframe tbody tr th {\n",
       "        vertical-align: top;\n",
       "    }\n",
       "\n",
       "    .dataframe thead th {\n",
       "        text-align: right;\n",
       "    }\n",
       "</style>\n",
       "<table border=\"1\" class=\"dataframe\">\n",
       "  <thead>\n",
       "    <tr style=\"text-align: right;\">\n",
       "      <th></th>\n",
       "      <th>label</th>\n",
       "      <th>pixel1</th>\n",
       "      <th>pixel2</th>\n",
       "      <th>pixel3</th>\n",
       "      <th>pixel4</th>\n",
       "      <th>pixel5</th>\n",
       "      <th>pixel6</th>\n",
       "      <th>pixel7</th>\n",
       "      <th>pixel8</th>\n",
       "      <th>pixel9</th>\n",
       "      <th>...</th>\n",
       "      <th>pixel775</th>\n",
       "      <th>pixel776</th>\n",
       "      <th>pixel777</th>\n",
       "      <th>pixel778</th>\n",
       "      <th>pixel779</th>\n",
       "      <th>pixel780</th>\n",
       "      <th>pixel781</th>\n",
       "      <th>pixel782</th>\n",
       "      <th>pixel783</th>\n",
       "      <th>pixel784</th>\n",
       "    </tr>\n",
       "  </thead>\n",
       "  <tbody>\n",
       "    <tr>\n",
       "      <th>0</th>\n",
       "      <td>3</td>\n",
       "      <td>107</td>\n",
       "      <td>118</td>\n",
       "      <td>127</td>\n",
       "      <td>134</td>\n",
       "      <td>139</td>\n",
       "      <td>143</td>\n",
       "      <td>146</td>\n",
       "      <td>150</td>\n",
       "      <td>153</td>\n",
       "      <td>...</td>\n",
       "      <td>207</td>\n",
       "      <td>207</td>\n",
       "      <td>207</td>\n",
       "      <td>207</td>\n",
       "      <td>206</td>\n",
       "      <td>206</td>\n",
       "      <td>206</td>\n",
       "      <td>204</td>\n",
       "      <td>203</td>\n",
       "      <td>202</td>\n",
       "    </tr>\n",
       "    <tr>\n",
       "      <th>1</th>\n",
       "      <td>6</td>\n",
       "      <td>155</td>\n",
       "      <td>157</td>\n",
       "      <td>156</td>\n",
       "      <td>156</td>\n",
       "      <td>156</td>\n",
       "      <td>157</td>\n",
       "      <td>156</td>\n",
       "      <td>158</td>\n",
       "      <td>158</td>\n",
       "      <td>...</td>\n",
       "      <td>69</td>\n",
       "      <td>149</td>\n",
       "      <td>128</td>\n",
       "      <td>87</td>\n",
       "      <td>94</td>\n",
       "      <td>163</td>\n",
       "      <td>175</td>\n",
       "      <td>103</td>\n",
       "      <td>135</td>\n",
       "      <td>149</td>\n",
       "    </tr>\n",
       "    <tr>\n",
       "      <th>2</th>\n",
       "      <td>2</td>\n",
       "      <td>187</td>\n",
       "      <td>188</td>\n",
       "      <td>188</td>\n",
       "      <td>187</td>\n",
       "      <td>187</td>\n",
       "      <td>186</td>\n",
       "      <td>187</td>\n",
       "      <td>188</td>\n",
       "      <td>187</td>\n",
       "      <td>...</td>\n",
       "      <td>202</td>\n",
       "      <td>201</td>\n",
       "      <td>200</td>\n",
       "      <td>199</td>\n",
       "      <td>198</td>\n",
       "      <td>199</td>\n",
       "      <td>198</td>\n",
       "      <td>195</td>\n",
       "      <td>194</td>\n",
       "      <td>195</td>\n",
       "    </tr>\n",
       "    <tr>\n",
       "      <th>3</th>\n",
       "      <td>2</td>\n",
       "      <td>211</td>\n",
       "      <td>211</td>\n",
       "      <td>212</td>\n",
       "      <td>212</td>\n",
       "      <td>211</td>\n",
       "      <td>210</td>\n",
       "      <td>211</td>\n",
       "      <td>210</td>\n",
       "      <td>210</td>\n",
       "      <td>...</td>\n",
       "      <td>235</td>\n",
       "      <td>234</td>\n",
       "      <td>233</td>\n",
       "      <td>231</td>\n",
       "      <td>230</td>\n",
       "      <td>226</td>\n",
       "      <td>225</td>\n",
       "      <td>222</td>\n",
       "      <td>229</td>\n",
       "      <td>163</td>\n",
       "    </tr>\n",
       "    <tr>\n",
       "      <th>4</th>\n",
       "      <td>12</td>\n",
       "      <td>164</td>\n",
       "      <td>167</td>\n",
       "      <td>170</td>\n",
       "      <td>172</td>\n",
       "      <td>176</td>\n",
       "      <td>179</td>\n",
       "      <td>180</td>\n",
       "      <td>184</td>\n",
       "      <td>185</td>\n",
       "      <td>...</td>\n",
       "      <td>92</td>\n",
       "      <td>105</td>\n",
       "      <td>105</td>\n",
       "      <td>108</td>\n",
       "      <td>133</td>\n",
       "      <td>163</td>\n",
       "      <td>157</td>\n",
       "      <td>163</td>\n",
       "      <td>164</td>\n",
       "      <td>179</td>\n",
       "    </tr>\n",
       "  </tbody>\n",
       "</table>\n",
       "<p>5 rows × 785 columns</p>\n",
       "</div>"
      ],
      "text/plain": [
       "   label  pixel1  pixel2  pixel3  pixel4  pixel5  pixel6  pixel7  pixel8  \\\n",
       "0      3     107     118     127     134     139     143     146     150   \n",
       "1      6     155     157     156     156     156     157     156     158   \n",
       "2      2     187     188     188     187     187     186     187     188   \n",
       "3      2     211     211     212     212     211     210     211     210   \n",
       "4     12     164     167     170     172     176     179     180     184   \n",
       "\n",
       "   pixel9  ...  pixel775  pixel776  pixel777  pixel778  pixel779  pixel780  \\\n",
       "0     153  ...       207       207       207       207       206       206   \n",
       "1     158  ...        69       149       128        87        94       163   \n",
       "2     187  ...       202       201       200       199       198       199   \n",
       "3     210  ...       235       234       233       231       230       226   \n",
       "4     185  ...        92       105       105       108       133       163   \n",
       "\n",
       "   pixel781  pixel782  pixel783  pixel784  \n",
       "0       206       204       203       202  \n",
       "1       175       103       135       149  \n",
       "2       198       195       194       195  \n",
       "3       225       222       229       163  \n",
       "4       157       163       164       179  \n",
       "\n",
       "[5 rows x 785 columns]"
      ]
     },
     "execution_count": 4,
     "metadata": {},
     "output_type": "execute_result"
    }
   ],
   "source": [
    "train_df.head()"
   ]
  },
  {
   "cell_type": "markdown",
   "id": "4b19fcdc",
   "metadata": {},
   "source": [
    "Extracting the Labels"
   ]
  },
  {
   "cell_type": "code",
   "execution_count": 5,
   "id": "d459d21b",
   "metadata": {},
   "outputs": [],
   "source": [
    "y_train = train_df['label']\n",
    "y_valid = valid_df['label']\n",
    "del train_df['label']\n",
    "del valid_df['label']"
   ]
  },
  {
   "cell_type": "markdown",
   "id": "213c5454",
   "metadata": {},
   "source": [
    "Extracting the Images"
   ]
  },
  {
   "cell_type": "code",
   "execution_count": 6,
   "id": "d435fddf",
   "metadata": {},
   "outputs": [],
   "source": [
    "x_train = train_df.values\n",
    "x_valid = valid_df.values"
   ]
  },
  {
   "cell_type": "markdown",
   "id": "275ea352",
   "metadata": {},
   "source": [
    "Summarizing the Training and Validation Data"
   ]
  },
  {
   "cell_type": "code",
   "execution_count": 7,
   "id": "05613e66",
   "metadata": {},
   "outputs": [
    {
     "data": {
      "text/plain": [
       "(27455, 784)"
      ]
     },
     "execution_count": 7,
     "metadata": {},
     "output_type": "execute_result"
    }
   ],
   "source": [
    "x_train.shape"
   ]
  },
  {
   "cell_type": "code",
   "execution_count": 8,
   "id": "37a6c6bc",
   "metadata": {},
   "outputs": [
    {
     "data": {
      "text/plain": [
       "(27455,)"
      ]
     },
     "execution_count": 8,
     "metadata": {},
     "output_type": "execute_result"
    }
   ],
   "source": [
    "y_train.shape"
   ]
  },
  {
   "cell_type": "code",
   "execution_count": 9,
   "id": "64f6c67a",
   "metadata": {},
   "outputs": [
    {
     "data": {
      "text/plain": [
       "(7172, 784)"
      ]
     },
     "execution_count": 9,
     "metadata": {},
     "output_type": "execute_result"
    }
   ],
   "source": [
    "x_valid.shape"
   ]
  },
  {
   "cell_type": "code",
   "execution_count": 10,
   "id": "c25154ca",
   "metadata": {},
   "outputs": [
    {
     "data": {
      "text/plain": [
       "(7172,)"
      ]
     },
     "execution_count": 10,
     "metadata": {},
     "output_type": "execute_result"
    }
   ],
   "source": [
    "y_valid.shape"
   ]
  },
  {
   "cell_type": "markdown",
   "id": "c435aad6",
   "metadata": {},
   "source": [
    "Visualizing the Data"
   ]
  },
  {
   "cell_type": "code",
   "execution_count": 11,
   "id": "1e2d22b4",
   "metadata": {},
   "outputs": [
    {
     "data": {
      "image/png": "[encoded data removed]",
      "text/plain": [
       "<Figure size 4000x4000 with 20 Axes>"
      ]
     },
     "metadata": {},
     "output_type": "display_data"
    }
   ],
   "source": [
    "import matplotlib.pyplot as plt\n",
    "plt.figure(figsize=(40,40))\n",
    "\n",
    "num_images = 20\n",
    "for i in range(num_images):\n",
    "    row = x_train[i]\n",
    "    label = y_train[i]\n",
    "    \n",
    "    image = row.reshape(28,28)\n",
    "    plt.subplot(1, num_images, i+1)\n",
    "    plt.title(label, fontdict={'fontsize': 30})\n",
    "    plt.axis('off')\n",
    "    plt.imshow(image, cmap='gray')"
   ]
  },
  {
   "cell_type": "code",
   "execution_count": 12,
   "id": "5c8f2e1a",
   "metadata": {},
   "outputs": [
    {
     "data": {
      "text/plain": [
       "0"
      ]
     },
     "execution_count": 12,
     "metadata": {},
     "output_type": "execute_result"
    }
   ],
   "source": [
    "x_train.min()"
   ]
  },
  {
   "cell_type": "code",
   "execution_count": 13,
   "id": "e1553142",
   "metadata": {},
   "outputs": [
    {
     "data": {
      "text/plain": [
       "255"
      ]
     },
     "execution_count": 13,
     "metadata": {},
     "output_type": "execute_result"
    }
   ],
   "source": [
    "x_train.max()"
   ]
  },
  {
   "cell_type": "markdown",
   "id": "3f61e658",
   "metadata": {},
   "source": [
    "Normalizing the Image Data"
   ]
  },
  {
   "cell_type": "code",
   "execution_count": 16,
   "id": "822d88ec",
   "metadata": {},
   "outputs": [],
   "source": [
    "x_train = train_df.values / 255\n",
    "x_valid = valid_df.values / 255"
   ]
  },
  {
   "cell_type": "markdown",
   "id": "114b414a",
   "metadata": {},
   "source": [
    "Categorizing the Labels"
   ]
  },
  {
   "cell_type": "code",
   "execution_count": 15,
   "id": "72952cae",
   "metadata": {},
   "outputs": [],
   "source": [
    "import tensorflow.keras as keras\n",
    "num_classes = 24"
   ]
  },
  {
   "cell_type": "code",
   "execution_count": 17,
   "id": "0a657e62",
   "metadata": {},
   "outputs": [],
   "source": [
    "if not y_train.shape[-1] == 24:  # Avoid running multiple times\n",
    "    y_train = keras.utils.to_categorical(y_train, num_classes)\n",
    "    y_valid = keras.utils.to_categorical(y_valid, num_classes)"
   ]
  },
  {
   "cell_type": "markdown",
   "id": "db8618d6",
   "metadata": {},
   "source": [
    "Building the Model"
   ]
  },
  {
   "cell_type": "code",
   "execution_count": 18,
   "id": "5b813494",
   "metadata": {},
   "outputs": [],
   "source": [
    "from tensorflow.keras.models import Sequential\n",
    "from tensorflow.keras.layers import Dense"
   ]
  },
  {
   "cell_type": "code",
   "execution_count": 19,
   "id": "aaa5d88a",
   "metadata": {},
   "outputs": [],
   "source": [
    "model = Sequential()\n",
    "model.add(Dense(units = 512, activation='relu', input_shape=(784,)))\n",
    "model.add(Dense(units = 512, activation='relu'))\n",
    "model.add(Dense(units = num_classes, activation='softmax'))"
   ]
  },
  {
   "cell_type": "markdown",
   "id": "81ae7dd2",
   "metadata": {},
   "source": [
    "Summarizing the Model"
   ]
  },
  {
   "cell_type": "code",
   "execution_count": 20,
   "id": "0404ce1f",
   "metadata": {},
   "outputs": [
    {
     "name": "stdout",
     "output_type": "stream",
     "text": [
      "Model: \"sequential\"\n",
      "_________________________________________________________________\n",
      " Layer (type)                Output Shape              Param #   \n",
      "=================================================================\n",
      " dense (Dense)               (None, 512)               401920    \n",
      "                                                                 \n",
      " dense_1 (Dense)             (None, 512)               262656    \n",
      "                                                                 \n",
      " dense_2 (Dense)             (None, 24)                12312     \n",
      "                                                                 \n",
      "=================================================================\n",
      "Total params: 676,888\n",
      "Trainable params: 676,888\n",
      "Non-trainable params: 0\n",
      "_________________________________________________________________\n"
     ]
    }
   ],
   "source": [
    "model.summary()"
   ]
  },
  {
   "cell_type": "markdown",
   "id": "e5e22f55",
   "metadata": {},
   "source": [
    "Compiling the Model"
   ]
  },
  {
   "cell_type": "code",
   "execution_count": 21,
   "id": "3dde1593",
   "metadata": {},
   "outputs": [],
   "source": [
    "model.compile(loss='categorical_crossentropy', metrics=['accuracy'])"
   ]
  },
  {
   "cell_type": "code",
   "execution_count": 22,
   "id": "547c4475",
   "metadata": {},
   "outputs": [
    {
     "name": "stdout",
     "output_type": "stream",
     "text": [
      "Epoch 1/20\n",
      "858/858 [==============================] - 9s 9ms/step - loss: 1.9700 - accuracy: 0.3774 - val_loss: 1.2765 - val_accuracy: 0.5777\n",
      "Epoch 2/20\n",
      "858/858 [==============================] - 9s 10ms/step - loss: 0.9611 - accuracy: 0.6740 - val_loss: 1.0680 - val_accuracy: 0.6326\n",
      "Epoch 3/20\n",
      "858/858 [==============================] - 8s 9ms/step - loss: 0.5772 - accuracy: 0.8036 - val_loss: 1.0507 - val_accuracy: 0.6829\n",
      "Epoch 4/20\n",
      "858/858 [==============================] - 8s 10ms/step - loss: 0.3826 - accuracy: 0.8782 - val_loss: 0.8426 - val_accuracy: 0.7571\n",
      "Epoch 5/20\n",
      "858/858 [==============================] - 9s 10ms/step - loss: 0.2873 - accuracy: 0.9150 - val_loss: 1.3891 - val_accuracy: 0.6949\n",
      "Epoch 6/20\n",
      "858/858 [==============================] - 8s 10ms/step - loss: 0.2220 - accuracy: 0.9343 - val_loss: 0.8055 - val_accuracy: 0.8296\n",
      "Epoch 7/20\n",
      "858/858 [==============================] - 8s 9ms/step - loss: 0.2008 - accuracy: 0.9458 - val_loss: 1.2319 - val_accuracy: 0.7510\n",
      "Epoch 8/20\n",
      "858/858 [==============================] - 8s 10ms/step - loss: 0.1780 - accuracy: 0.9573 - val_loss: 1.3571 - val_accuracy: 0.7846\n",
      "Epoch 9/20\n",
      "858/858 [==============================] - 8s 9ms/step - loss: 0.1619 - accuracy: 0.9635 - val_loss: 2.0796 - val_accuracy: 0.7117\n",
      "Epoch 10/20\n",
      "858/858 [==============================] - 8s 10ms/step - loss: 0.1677 - accuracy: 0.9628 - val_loss: 1.5608 - val_accuracy: 0.7514\n",
      "Epoch 11/20\n",
      "858/858 [==============================] - 8s 9ms/step - loss: 0.1523 - accuracy: 0.9688 - val_loss: 0.9855 - val_accuracy: 0.8465\n",
      "Epoch 12/20\n",
      "858/858 [==============================] - 8s 10ms/step - loss: 0.1485 - accuracy: 0.9691 - val_loss: 1.8380 - val_accuracy: 0.7678\n",
      "Epoch 13/20\n",
      "858/858 [==============================] - 7s 9ms/step - loss: 0.1203 - accuracy: 0.9742 - val_loss: 1.1506 - val_accuracy: 0.8331\n",
      "Epoch 14/20\n",
      "858/858 [==============================] - 8s 10ms/step - loss: 0.1274 - accuracy: 0.9752 - val_loss: 1.2740 - val_accuracy: 0.8246\n",
      "Epoch 15/20\n",
      "858/858 [==============================] - 8s 9ms/step - loss: 0.1261 - accuracy: 0.9765 - val_loss: 1.7082 - val_accuracy: 0.8073\n",
      "Epoch 16/20\n",
      "858/858 [==============================] - 8s 10ms/step - loss: 0.1268 - accuracy: 0.9757 - val_loss: 1.2719 - val_accuracy: 0.8194\n",
      "Epoch 17/20\n",
      "858/858 [==============================] - 8s 9ms/step - loss: 0.1168 - accuracy: 0.9780 - val_loss: 1.8478 - val_accuracy: 0.7885\n",
      "Epoch 18/20\n",
      "858/858 [==============================] - 8s 10ms/step - loss: 0.1185 - accuracy: 0.9805 - val_loss: 1.6299 - val_accuracy: 0.8134\n",
      "Epoch 19/20\n",
      "858/858 [==============================] - 8s 9ms/step - loss: 0.1045 - accuracy: 0.9801 - val_loss: 1.5241 - val_accuracy: 0.8118\n",
      "Epoch 20/20\n",
      "858/858 [==============================] - 8s 10ms/step - loss: 0.1046 - accuracy: 0.9795 - val_loss: 1.7047 - val_accuracy: 0.8210\n"
     ]
    },
    {
     "data": {
      "text/plain": [
       "<keras.callbacks.History at 0x1be255e7c40>"
      ]
     },
     "execution_count": 22,
     "metadata": {},
     "output_type": "execute_result"
    }
   ],
   "source": [
    "model.fit(x_train, y_train, epochs=20, verbose=1, validation_data=(x_valid, y_valid))"
   ]
  },
  {
   "cell_type": "markdown",
   "id": "ec3dc643",
   "metadata": {},
   "source": [
    "Evaluating the model"
   ]
  },
  {
   "cell_type": "code",
   "execution_count": 23,
   "id": "d00049f2",
   "metadata": {},
   "outputs": [
    {
     "name": "stdout",
     "output_type": "stream",
     "text": [
      "225/225 [==============================] - 1s 2ms/step - loss: 1.7047 - accuracy: 0.8210\n"
     ]
    },
    {
     "data": {
      "text/plain": [
       "[1.7046897411346436, 0.8209704160690308]"
      ]
     },
     "execution_count": 23,
     "metadata": {},
     "output_type": "execute_result"
    }
   ],
   "source": [
    "model.evaluate(x_valid,y_valid)"
   ]
  }
 ],
 "metadata": {
  "kernelspec": {
   "display_name": "Python 3 (ipykernel)",
   "language": "python",
   "name": "python3"
  },
  "language_info": {
   "codemirror_mode": {
    "name": "ipython",
    "version": 3
   },
   "file_extension": ".py",
   "mimetype": "text/x-python",
   "name": "python",
   "nbconvert_exporter": "python",
   "pygments_lexer": "ipython3",
   "version": "3.9.13"
  }
 },
 "nbformat": 4,
 "nbformat_minor": 5
}
